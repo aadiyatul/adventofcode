{
 "cells": [
  {
   "cell_type": "markdown",
   "id": "183dfe88",
   "metadata": {},
   "source": [
    "# Day 1: Sonar Sweep\n",
    "\n",
    "https://adventofcode.com/2021/day/1\n",
    "\n",
    "Solving in an imperative way.\n",
    "\n",
    "For part 2, use a numpy.convolve function."
   ]
  },
  {
   "cell_type": "code",
   "execution_count": 1,
   "id": "fcc50821",
   "metadata": {},
   "outputs": [],
   "source": [
    "import aocd\n",
    "depths = list(map(int, aocd.get_data(day=1, year=2021).splitlines()))\n",
    "# depths = [199,200,208,210,200,207,240,269,260,263] # test data"
   ]
  },
  {
   "cell_type": "code",
   "execution_count": 2,
   "id": "23dcf44a",
   "metadata": {},
   "outputs": [],
   "source": [
    "import numpy as np\n",
    "\n",
    "def num_of_increases(list_in, sum_window=1):\n",
    "    \"\"\"\n",
    "    Counts how many times the next element of the list is larger than the current one\n",
    "    \"\"\"\n",
    "    inc = 0\n",
    "    for i in range(len(list_in)-1):\n",
    "        if list_in[i+1] > list_in[i]:\n",
    "            inc += 1\n",
    "    return inc\n",
    "\n",
    "def apply_sw(list_in, window_size):\n",
    "    \"\"\"\n",
    "    Calculates sums of a sliding window of a given size\n",
    "    \"\"\"\n",
    "    window = np.ones(window_size)\n",
    "    return np.convolve(list_in,window,mode='valid')"
   ]
  },
  {
   "cell_type": "code",
   "execution_count": 3,
   "id": "43ce375e",
   "metadata": {},
   "outputs": [
    {
     "name": "stdout",
     "output_type": "stream",
     "text": [
      "Part 1: 1759 times\n"
     ]
    }
   ],
   "source": [
    "answer1 = num_of_increases(depths)\n",
    "print(f'Part 1: {answer1} times')"
   ]
  },
  {
   "cell_type": "code",
   "execution_count": 4,
   "id": "9f2b9ae0",
   "metadata": {},
   "outputs": [
    {
     "name": "stdout",
     "output_type": "stream",
     "text": [
      "Part 2: 1805 times\n"
     ]
    }
   ],
   "source": [
    "answer2 = num_of_increases(apply_sw(depths,3))\n",
    "print(f'Part 2: {answer2} times')"
   ]
  }
 ],
 "metadata": {
  "kernelspec": {
   "display_name": "aoc",
   "language": "python",
   "name": "aoc"
  },
  "language_info": {
   "codemirror_mode": {
    "name": "ipython",
    "version": 3
   },
   "file_extension": ".py",
   "mimetype": "text/x-python",
   "name": "python",
   "nbconvert_exporter": "python",
   "pygments_lexer": "ipython3",
   "version": "3.7.4"
  }
 },
 "nbformat": 4,
 "nbformat_minor": 5
}
