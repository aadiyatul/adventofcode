{
 "cells": [
  {
   "cell_type": "markdown",
   "id": "183dfe88",
   "metadata": {},
   "source": [
    "# Day 2: Dive!\n",
    "\n",
    "https://adventofcode.com/2021/day/2\n",
    "\n",
    "For the part 1 I will first parse the input into a list of increments [dx,dy], and then some over it."
   ]
  },
  {
   "cell_type": "code",
   "execution_count": 1,
   "id": "fcc50821",
   "metadata": {},
   "outputs": [],
   "source": [
    "import aocd\n",
    "commands = list(map(str, aocd.get_data(day=2, year=2021).splitlines()))\n",
    "# commands = ['forward 5','down 5','forward 8','up 3','down 8','forward 2'] # test data"
   ]
  },
  {
   "cell_type": "code",
   "execution_count": 2,
   "id": "23dcf44a",
   "metadata": {},
   "outputs": [],
   "source": [
    "def to_inc(string):\n",
    "    '''\n",
    "    Parses the string and return a list of two values [x,y]\n",
    "    corresponding to the shift in the horizontal (x) and \n",
    "    vertical (y) directions\n",
    "    '''\n",
    "    # we expect two words in every line\n",
    "    [way,val] = string.split()\n",
    "    if way == 'forward':\n",
    "        return [int(val), 0]\n",
    "    elif way == 'down':\n",
    "        return [0, int(val)]\n",
    "    elif way == 'up':\n",
    "        return [0, -int(val)]\n",
    "    else:\n",
    "        raise ValueError('Unknown command')\n",
    "\n",
    "def integrate(commands):\n",
    "    '''\n",
    "    Parses the list of commands according to the Day 2 problem.\n",
    "    '''\n",
    "    list1 = [to_inc(s) for s in commands]\n",
    "    x = sum([dx for [dx,dy] in list1])\n",
    "    y = sum([dy for [dx,dy] in list1])\n",
    "    return x*y"
   ]
  },
  {
   "cell_type": "code",
   "execution_count": 3,
   "id": "43ce375e",
   "metadata": {},
   "outputs": [
    {
     "name": "stdout",
     "output_type": "stream",
     "text": [
      "Part 1: the answer is 1815044\n"
     ]
    }
   ],
   "source": [
    "answer1 = integrate(commands)\n",
    "print(f'Part 1: the answer is {answer1}')"
   ]
  },
  {
   "cell_type": "markdown",
   "id": "10b8d8e8",
   "metadata": {},
   "source": [
    "Here comes the part 2. Let's make it in a simple way to not forget anything."
   ]
  },
  {
   "cell_type": "code",
   "execution_count": 4,
   "id": "fef63100",
   "metadata": {},
   "outputs": [],
   "source": [
    "import numpy as np\n",
    "\n",
    "def integrate_part2(commands):\n",
    "    '''\n",
    "    Parses the list of commands according to the Part 2.\n",
    "    '''\n",
    "    list1 = [to_inc(s) for s in commands]\n",
    "    dxs = [dx for [dx,dy] in list1]\n",
    "    x = sum(dxs)\n",
    "    daims = [dy for [dx,dy] in list1]\n",
    "    aims = np.cumsum(daims)\n",
    "    y = sum([a*b for a,b in zip(dxs,aims)])\n",
    "    return x*y"
   ]
  },
  {
   "cell_type": "code",
   "execution_count": 5,
   "id": "1e2d6a3b",
   "metadata": {},
   "outputs": [
    {
     "name": "stdout",
     "output_type": "stream",
     "text": [
      "Part 2: the answer is 1739283308\n"
     ]
    }
   ],
   "source": [
    "answer2 = integrate_part2(commands)\n",
    "print(f'Part 2: the answer is {answer2}')"
   ]
  }
 ],
 "metadata": {
  "kernelspec": {
   "display_name": "aoc",
   "language": "python",
   "name": "aoc"
  },
  "language_info": {
   "codemirror_mode": {
    "name": "ipython",
    "version": 3
   },
   "file_extension": ".py",
   "mimetype": "text/x-python",
   "name": "python",
   "nbconvert_exporter": "python",
   "pygments_lexer": "ipython3",
   "version": "3.7.4"
  }
 },
 "nbformat": 4,
 "nbformat_minor": 5
}
