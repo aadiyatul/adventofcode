{
 "cells": [
  {
   "cell_type": "markdown",
   "id": "183dfe88",
   "metadata": {},
   "source": [
    "# --- Day 3: Binary Diagnostic ---\n",
    "\n",
    "https://adventofcode.com/2021/day/3\n",
    "\n",
    "Today I will try one-liners."
   ]
  },
  {
   "cell_type": "code",
   "execution_count": 1,
   "id": "fcc50821",
   "metadata": {},
   "outputs": [],
   "source": [
    "import aocd\n",
    "data = list(map(str, aocd.get_data(day=3, year=2021).splitlines()))\n",
    "# data = ['00100','11110','10110','10111','10101','01111','00111','11100','10000','11001','00010','01010'] # test data"
   ]
  },
  {
   "cell_type": "code",
   "execution_count": 2,
   "id": "23dcf44a",
   "metadata": {},
   "outputs": [],
   "source": [
    "def bit(data,pos,sort='most'):\n",
    "    '''\n",
    "    Calculates the most/least common bit at position pos in the data.\n",
    "    '''\n",
    "    sum_bits = int(sum([int(s[pos]) for s in data]))\n",
    "    if sort == 'most':\n",
    "        return int(sum_bits >= len(data)/2)\n",
    "    elif sort == 'least':\n",
    "        return int(sum_bits < len(data)/2)\n",
    "    else:\n",
    "        raise ValueError('Wrong keyword')\n",
    "    \n",
    "def gamma(data):\n",
    "    '''\n",
    "    Calculates gamma\n",
    "    '''\n",
    "    return int(''.join(map(str,[bit(data,pos,sort='most')\n",
    "                                for pos in range(len(data[0]))])),base=2)\n",
    "\n",
    "def epsilon(data):\n",
    "    '''\n",
    "    Calculates epsilon knowing that each bit of it is inversed in respect to gamma\n",
    "    '''\n",
    "    return int(''.join(map(str,[bit(data,pos,sort='least')\n",
    "                               for pos in range(len(data[0]))])),base=2)\n",
    "\n",
    "def power(data):\n",
    "    '''\n",
    "    Calculates power\n",
    "    '''\n",
    "    return gamma(data)*epsilon(data)"
   ]
  },
  {
   "cell_type": "code",
   "execution_count": 3,
   "id": "43ce375e",
   "metadata": {},
   "outputs": [
    {
     "name": "stdout",
     "output_type": "stream",
     "text": [
      "Part 1: the answer is 2250414\n"
     ]
    }
   ],
   "source": [
    "answer1 = power(data)\n",
    "print(f'Part 1: the answer is {answer1}')"
   ]
  },
  {
   "cell_type": "markdown",
   "id": "10b8d8e8",
   "metadata": {},
   "source": [
    "Will use a loop for part 2."
   ]
  },
  {
   "cell_type": "code",
   "execution_count": 4,
   "id": "fef63100",
   "metadata": {},
   "outputs": [],
   "source": [
    "def filt(data,pos,bit):\n",
    "    '''\n",
    "    Filters input data and returns only those with given bit at a given position\n",
    "    '''\n",
    "    return [s for s in data if s[pos]==str(bit)]\n",
    "\n",
    "def oxygen(data):\n",
    "    '''\n",
    "    Calculates oxygen data\n",
    "    '''\n",
    "    filtered_data = data\n",
    "    for pos in range(len(data[0])):\n",
    "        b = bit(filtered_data,pos,sort='most')\n",
    "        filtered_data = filt(filtered_data,pos,b)\n",
    "        if len(filtered_data) == 1:\n",
    "            break\n",
    "    return int(filtered_data[0], base=2)\n",
    "\n",
    "def co2(data):\n",
    "    '''\n",
    "    Calculates CO2 data\n",
    "    '''\n",
    "    filtered_data = data\n",
    "    for pos in range(len(data[0])):\n",
    "        b = bit(filtered_data,pos,sort='least')\n",
    "        filtered_data = filt(filtered_data,pos,b)\n",
    "        if len(filtered_data) == 1:\n",
    "            break\n",
    "    return int(filtered_data[0], base=2)\n",
    "\n",
    "def life_support(data):\n",
    "    return oxygen(data)*co2(data)"
   ]
  },
  {
   "cell_type": "code",
   "execution_count": 5,
   "id": "1e2d6a3b",
   "metadata": {},
   "outputs": [
    {
     "name": "stdout",
     "output_type": "stream",
     "text": [
      "Part 2: the answer is 6085575\n"
     ]
    }
   ],
   "source": [
    "answer2 = life_support(data)\n",
    "print(f'Part 2: the answer is {answer2}')"
   ]
  },
  {
   "cell_type": "code",
   "execution_count": null,
   "id": "d69e4902",
   "metadata": {},
   "outputs": [],
   "source": []
  }
 ],
 "metadata": {
  "kernelspec": {
   "display_name": "aoc",
   "language": "python",
   "name": "aoc"
  },
  "language_info": {
   "codemirror_mode": {
    "name": "ipython",
    "version": 3
   },
   "file_extension": ".py",
   "mimetype": "text/x-python",
   "name": "python",
   "nbconvert_exporter": "python",
   "pygments_lexer": "ipython3",
   "version": "3.7.4"
  }
 },
 "nbformat": 4,
 "nbformat_minor": 5
}
