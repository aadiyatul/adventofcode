{
 "cells": [
  {
   "cell_type": "markdown",
   "id": "183dfe88",
   "metadata": {},
   "source": [
    "# --- Day 8: Seven Segment Search ---\n",
    "https://adventofcode.com/2021/day/8\n",
    "\n",
    "Different digits have different number of segments:\n",
    "2 segments: 1\n",
    "3 segments: 7\n",
    "4 segments: 4\n",
    "5 segments: 2,3,5\n",
    "6 segments: 0,6,9\n",
    "7 segments: 8"
   ]
  },
  {
   "cell_type": "code",
   "execution_count": 10,
   "id": "fcc50821",
   "metadata": {},
   "outputs": [],
   "source": [
    "import aocd\n",
    "data = aocd.get_data(day=8, year=2021).splitlines()\n",
    "# # # # Test data\n",
    "# with open('input\\Day 08.txt', 'r') as f:\n",
    "#     data = f.read().splitlines()"
   ]
  },
  {
   "cell_type": "code",
   "execution_count": 6,
   "id": "23dcf44a",
   "metadata": {
    "scrolled": true
   },
   "outputs": [],
   "source": [
    "def parse_data(data):\n",
    "    '''\n",
    "    For each list element, returns a list, containing \n",
    "    a list of 10 digits (all digits) and a list of 4 digits (value)\n",
    "    '''\n",
    "    res = []\n",
    "    for line in data:\n",
    "        [part1, part2] = line.split('|')\n",
    "        digits = part1.split()\n",
    "        output = part2.split()\n",
    "        res.append([digits,output])\n",
    "    return res\n",
    "\n",
    "def count_1478(output):\n",
    "    '''\n",
    "    Returns total number of digits 1,4,7, and 8 in the given output,\n",
    "    i.e. in a list of 4 values\n",
    "    '''\n",
    "    return sum([len(x) in [2,3,4,7] for x in output])\n",
    "\n",
    "def part1(data):\n",
    "    data_parsed = parse_data(data)\n",
    "    return sum([count_1478(line[1]) for line in data_parsed])\n",
    "    "
   ]
  },
  {
   "cell_type": "code",
   "execution_count": 7,
   "id": "43ce375e",
   "metadata": {},
   "outputs": [
    {
     "name": "stdout",
     "output_type": "stream",
     "text": [
      "Part 1: 26\n"
     ]
    }
   ],
   "source": [
    "answer1 = part1(data)\n",
    "print(f'Part 1: {answer1}')"
   ]
  },
  {
   "cell_type": "markdown",
   "id": "7f1d3c90",
   "metadata": {},
   "source": [
    "Part 2. Given the segments oriented like this:\n",
    "\n",
    " aaaa  \n",
    "b    c\n",
    "b    c\n",
    " dddd \n",
    "e    f\n",
    "e    f\n",
    " gggg \n",
    " \n",
    "it can be shown that:\n",
    "\n",
    "1. 'a' is in len==4 but not in len==2\n",
    "2. 'd' is in len==4 and all len==5\n",
    "3. 'g' is the remaining one in all len==5\n",
    "4. 'b' is the remaining one in len==4 which is not in len==2\n",
    "5. 'f' is the remaining one in all len==6\n",
    "6. 'c' is the remaining one in len==2\n",
    "7. 'e' is the remaining one\n",
    "\n",
    "Replacement rule will be a dict like: {'a':'c', ...}. Here 'a' is the value in data (to which segment the wire is connected), and 'c' is the expected value (to what segment the wire should be connected). It is easier to decode in this case."
   ]
  },
  {
   "cell_type": "code",
   "execution_count": 13,
   "id": "812fa534",
   "metadata": {},
   "outputs": [],
   "source": [
    "from collections import Counter\n",
    "\n",
    "def sort(string):\n",
    "    '''\n",
    "    Sort the letters in a string in alphabetical order\n",
    "    '''\n",
    "    return ''.join(sorted(string))\n",
    "\n",
    "def find_rule(digits):\n",
    "    '''\n",
    "    Processes a list of 10 strings (digits) and returns a dict \n",
    "    for replacement of segments\n",
    "    '''\n",
    "    rule = {}\n",
    "    remaining = 'abcdefg'\n",
    "    lens = [len(x) for x in digits]\n",
    "\n",
    "    # digits and groups of digits\n",
    "    n1 = set(digits[lens.index(2)])\n",
    "    n7 = digits[lens.index(3)]\n",
    "    n4 = digits[lens.index(4)]\n",
    "    n235 = [digits[i] for i, x in enumerate(lens) if x==5]\n",
    "    n069 = [digits[i] for i, x in enumerate(lens) if x==6]\n",
    "    \n",
    "    # 1. 'a' is in len==4 but not in len==1\n",
    "    segm_a = list(set(n7) ^ set(n1))[0]\n",
    "    rule[segm_a] = 'a'\n",
    "    remaining = remaining.replace(segm_a,'')\n",
    "    \n",
    "    # 2. 'd' is in len==4 and all len==5\n",
    "    segm_d = list(set(n4) & set(n235[0]) & set(n235[1]) & set(n235[2]))[0]\n",
    "    rule[segm_d] = 'd'\n",
    "    remaining = remaining.replace(segm_d,'')\n",
    "    \n",
    "    # 3. 'g' is the remaining one in all len==5\n",
    "    segm_g = list(set(remaining) & set(n235[0]) & set(n235[1]) & set(n235[2]))[0]\n",
    "    rule[segm_g] = 'g'\n",
    "    remaining = remaining.replace(segm_g,'')\n",
    "    \n",
    "    # 4. 'b' is the remaining one in len==4 which is not in len==2\n",
    "    segm_b = list(set(remaining) & (set(n4)^set(n1)))[0]\n",
    "    rule[segm_b] = 'b'\n",
    "    remaining = remaining.replace(segm_b,'')  \n",
    "    \n",
    "    # 5. 'f' is the remaining one in all len==6\n",
    "    segm_g = list(set(remaining) & set(n069[0]) & set(n069[1]) & set(n069[2]))[0]\n",
    "    rule[segm_g] = 'f'\n",
    "    remaining = remaining.replace(segm_g,'')\n",
    "    \n",
    "    # 'c' is the remaining one in len==2\n",
    "    segm_c = list(set(remaining) & set(n1))[0]\n",
    "    rule[segm_c] = 'c'\n",
    "    remaining = remaining.replace(segm_c,'')\n",
    "    \n",
    "    # 7. 'e' is the remaining one\n",
    "    segm_e = remaining\n",
    "    rule[segm_e] = 'e'\n",
    "    \n",
    "    return rule\n",
    "\n",
    "def decode(output, rule):\n",
    "    '''\n",
    "    Decodes the output data (list of strings) according to the rule (a dict)\n",
    "    '''\n",
    "    decoded_output = []\n",
    "    for line in output:\n",
    "        decoded_line = ''.join([rule[x] for x in line])\n",
    "        decoded_output.append(decoded_line)\n",
    "    return decoded_output   \n",
    "\n",
    "def to_number(output):\n",
    "    '''\n",
    "    Translates decoded output (list of 4 digits) to a 4-digit number\n",
    "    '''\n",
    "    digits = ['abcefg','cf','acdeg','acdfg','bcdf', \n",
    "              'abdfg','abdefg','acf','abcdefg','abcdfg']\n",
    "    number = 0\n",
    "    for i,string in enumerate(output):\n",
    "        dgt = digits.index(sort(string))\n",
    "        number += dgt*10**(3-i) \n",
    "    return number\n",
    "\n",
    "\n",
    "\n",
    "def part2(data):\n",
    "    data_parsed = parse_data(data)\n",
    "    summ = 0;\n",
    "    for line in data_parsed:\n",
    "        rule = find_rule(line[0])\n",
    "        decoded = decode(line[1],rule)\n",
    "        out = to_number(decoded)\n",
    "        summ += out\n",
    "    return summ"
   ]
  },
  {
   "cell_type": "code",
   "execution_count": 14,
   "id": "869ed07a",
   "metadata": {},
   "outputs": [
    {
     "name": "stdout",
     "output_type": "stream",
     "text": [
      "Part 2: 1016804\n"
     ]
    }
   ],
   "source": [
    "answer2 = part2(data)\n",
    "print(f'Part 2: {answer2}')"
   ]
  }
 ],
 "metadata": {
  "kernelspec": {
   "display_name": "aoc",
   "language": "python",
   "name": "aoc"
  },
  "language_info": {
   "codemirror_mode": {
    "name": "ipython",
    "version": 3
   },
   "file_extension": ".py",
   "mimetype": "text/x-python",
   "name": "python",
   "nbconvert_exporter": "python",
   "pygments_lexer": "ipython3",
   "version": "3.7.4"
  }
 },
 "nbformat": 4,
 "nbformat_minor": 5
}
