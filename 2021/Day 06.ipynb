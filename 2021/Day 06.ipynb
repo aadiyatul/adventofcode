{
 "cells": [
  {
   "cell_type": "markdown",
   "id": "183dfe88",
   "metadata": {},
   "source": [
    "# --- Day 6: Lanternfish ---\n",
    "https://adventofcode.com/2021/day/6\n",
    "\n",
    "Straightforward way will fail for Part 2 because the number of fish grows exponentially. Much wiser to simply count number of fish with the same timer on each day, which can be easily done using `collections.Counter`.\n",
    "\n",
    "I was solving this one using Python 3.7 in which Counter still does not have the method `total()`, so the total number of elements will be calculated through a list comprehension."
   ]
  },
  {
   "cell_type": "code",
   "execution_count": 1,
   "id": "fcc50821",
   "metadata": {},
   "outputs": [],
   "source": [
    "import aocd\n",
    "data = list(map(int,aocd.get_data(day=6, year=2021).split(',')))\n",
    "# # # # Test data\n",
    "# with open('input\\Day 06.txt', 'r') as f:\n",
    "#     data = list(map(int,f.read().split(',')))\n",
    "# data"
   ]
  },
  {
   "cell_type": "code",
   "execution_count": 2,
   "id": "23dcf44a",
   "metadata": {
    "scrolled": true
   },
   "outputs": [],
   "source": [
    "from collections import Counter\n",
    "\n",
    "def solve(data,days=1):\n",
    "    fish = Counter(data)\n",
    "    for i in range(days):\n",
    "        news = fish[0]\n",
    "        for i in range(8):\n",
    "            fish[i] = fish[i+1]\n",
    "        fish[8] = news\n",
    "        fish[6] += news\n",
    "    # Avoid using Counter.total()\n",
    "    total = sum([fish[key] for key in fish])\n",
    "    return total"
   ]
  },
  {
   "cell_type": "code",
   "execution_count": 3,
   "id": "43ce375e",
   "metadata": {},
   "outputs": [
    {
     "name": "stdout",
     "output_type": "stream",
     "text": [
      "Part 1: the answer is 352872\n"
     ]
    }
   ],
   "source": [
    "answer1 = solve(data,days=80)\n",
    "print(f'Part 1: the answer is {answer1}')"
   ]
  },
  {
   "cell_type": "code",
   "execution_count": 4,
   "id": "1e2d6a3b",
   "metadata": {},
   "outputs": [
    {
     "name": "stdout",
     "output_type": "stream",
     "text": [
      "Part 2: the answer is 1604361182149\n"
     ]
    }
   ],
   "source": [
    "answer2 = solve(data,days=256)\n",
    "print(f'Part 2: the answer is {answer2}')"
   ]
  }
 ],
 "metadata": {
  "kernelspec": {
   "display_name": "aoc",
   "language": "python",
   "name": "aoc"
  },
  "language_info": {
   "codemirror_mode": {
    "name": "ipython",
    "version": 3
   },
   "file_extension": ".py",
   "mimetype": "text/x-python",
   "name": "python",
   "nbconvert_exporter": "python",
   "pygments_lexer": "ipython3",
   "version": "3.7.4"
  }
 },
 "nbformat": 4,
 "nbformat_minor": 5
}
