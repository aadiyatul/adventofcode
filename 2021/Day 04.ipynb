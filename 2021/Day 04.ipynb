{
 "cells": [
  {
   "cell_type": "markdown",
   "id": "183dfe88",
   "metadata": {},
   "source": [
    "# --- Day 4: Giant Squid ---\n",
    "\n",
    "https://adventofcode.com/2021/day/4\n",
    "\n",
    "The bingo game. I will write a class representing a bingo board and its status."
   ]
  },
  {
   "cell_type": "code",
   "execution_count": 1,
   "id": "fcc50821",
   "metadata": {},
   "outputs": [],
   "source": [
    "import aocd\n",
    "data = aocd.get_data(day=4, year=2021).splitlines()\n",
    "# # # # Test data\n",
    "# with open('input\\Day 04.txt', 'r') as f:\n",
    "#     data = f.read().splitlines()"
   ]
  },
  {
   "cell_type": "code",
   "execution_count": 2,
   "id": "23dcf44a",
   "metadata": {
    "scrolled": true
   },
   "outputs": [],
   "source": [
    "def parse_input(data):\n",
    "    '''\n",
    "    Reshape the input of the problem into a list of numbers and a list of boards.\n",
    "    '''\n",
    "    # The first line is a list of draws\n",
    "    draws = list(map(int,data[0].split(',')))\n",
    "    # Tables go next. Each takes 6 lines: one empty line + 5 lines of 5 niumbers in each\n",
    "    no_tables = int((len(data)-1)/6);\n",
    "    boards = []\n",
    "    for i in range(no_tables):\n",
    "        table = []\n",
    "        for j in range(5):\n",
    "            line = list(map(int, data[i*6+j+2].split()))\n",
    "            table.append(line)\n",
    "        boards.append(Board(table))\n",
    "    return [draws,boards]\n",
    "\n",
    "class Board():\n",
    "    '''\n",
    "    Represents a board and its status.\n",
    "    '''\n",
    "    \n",
    "    def __init__(self,table):\n",
    "        self._board = table;\n",
    "        self._map = [[False for x in range(5)] for y in range(5)]\n",
    "        self._last_drawn = None\n",
    "    \n",
    "    def _table_or(self,table1,table2):\n",
    "        '''\n",
    "        Perform logical OR for 5x5 lists of lists\n",
    "        '''\n",
    "        return [[table1[y][x] or table2[y][x] for x in range(5)] for y in range(5)]\n",
    "    \n",
    "    def draw(self,number):\n",
    "        '''\n",
    "        Checks if the drawn number exists on the board. Modifies the board accordingly\n",
    "        Returns True if the board is completed.\n",
    "        '''\n",
    "        self._last_drawn = number\n",
    "        match_map = [[self._board[y][x]==number for x in range(5)] for y in range(5)]\n",
    "        self._map = self._table_or(self._map,match_map)\n",
    "        return self.won()\n",
    "    \n",
    "    def won(self):\n",
    "        '''\n",
    "        Returns True if the board has one complete row or column.\n",
    "        '''\n",
    "        # rows\n",
    "        if any([all(self._map[x]) for x in range(5)]):\n",
    "            return True\n",
    "        # columns\n",
    "        if any([all([self._map[y][x] for y in range(5)]) for x in range(5)]):\n",
    "            return True\n",
    "        return False\n",
    "\n",
    "    def score(self):\n",
    "        '''\n",
    "        Calculate the score, i.e. product of the last called number by sum of all \n",
    "        unmarked numbers\n",
    "        '''\n",
    "        coeff = [[int(not(self._map[y][x])) for x in range(5)] for y in range(5)]\n",
    "        summ = sum([\n",
    "            sum([coeff[y][x]*self._board[y][x] for x in range(5)])\n",
    "            for y in range(5)])\n",
    "        return summ*self._last_drawn\n",
    "    \n",
    "def part1(data):\n",
    "    '''\n",
    "    Finds the first board to win and calculates its score.\n",
    "    '''\n",
    "    [draws,boards] = parse_input(data)\n",
    "    for i in range(len(draws)):\n",
    "        res = [b.draw(draws[i]) for b in boards]\n",
    "        if any(res):\n",
    "            idx = res.index(True)\n",
    "            break\n",
    "    return boards[idx].score()"
   ]
  },
  {
   "cell_type": "code",
   "execution_count": 3,
   "id": "43ce375e",
   "metadata": {},
   "outputs": [
    {
     "name": "stdout",
     "output_type": "stream",
     "text": [
      "Part 1: the answer is 41503\n"
     ]
    }
   ],
   "source": [
    "answer1 = part1(data)\n",
    "print(f'Part 1: the answer is {answer1}')"
   ]
  },
  {
   "cell_type": "markdown",
   "id": "10b8d8e8",
   "metadata": {},
   "source": [
    "Very similar solution fo the Part 2."
   ]
  },
  {
   "cell_type": "code",
   "execution_count": 4,
   "id": "fef63100",
   "metadata": {},
   "outputs": [],
   "source": [
    "def part2(data):\n",
    "    '''\n",
    "    Finds the last board to win and calculates its score.\n",
    "    '''\n",
    "    [draws,boards] = parse_input(data)\n",
    "    prev_res = []\n",
    "    for i in range(len(draws)):\n",
    "        res = [b.draw(draws[i]) for b in boards]\n",
    "        if all(res):\n",
    "            idx = prev_res.index(False)\n",
    "            break\n",
    "        else:\n",
    "            prev_res = res\n",
    "    return boards[idx].score()"
   ]
  },
  {
   "cell_type": "code",
   "execution_count": 5,
   "id": "1e2d6a3b",
   "metadata": {},
   "outputs": [
    {
     "name": "stdout",
     "output_type": "stream",
     "text": [
      "Part 2: the answer is 3178\n"
     ]
    }
   ],
   "source": [
    "answer2 = part2(data)\n",
    "print(f'Part 2: the answer is {answer2}')"
   ]
  }
 ],
 "metadata": {
  "kernelspec": {
   "display_name": "aoc",
   "language": "python",
   "name": "aoc"
  },
  "language_info": {
   "codemirror_mode": {
    "name": "ipython",
    "version": 3
   },
   "file_extension": ".py",
   "mimetype": "text/x-python",
   "name": "python",
   "nbconvert_exporter": "python",
   "pygments_lexer": "ipython3",
   "version": "3.7.4"
  }
 },
 "nbformat": 4,
 "nbformat_minor": 5
}
