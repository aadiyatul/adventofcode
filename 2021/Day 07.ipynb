{
 "cells": [
  {
   "cell_type": "markdown",
   "id": "183dfe88",
   "metadata": {},
   "source": [
    "# --- Day 7: The Treachery of Whales ---\n",
    "https://adventofcode.com/2021/day/7\n",
    "\n",
    "Looks straightforward."
   ]
  },
  {
   "cell_type": "code",
   "execution_count": 1,
   "id": "fcc50821",
   "metadata": {},
   "outputs": [],
   "source": [
    "import aocd\n",
    "data = list(map(int,aocd.get_data(day=7, year=2021).split(',')))\n",
    "# # # # Test data\n",
    "# with open('input\\Day 07.txt', 'r') as f:\n",
    "#     data = list(map(int,f.read().split(',')))\n",
    "# data"
   ]
  },
  {
   "cell_type": "code",
   "execution_count": 2,
   "id": "23dcf44a",
   "metadata": {
    "scrolled": true
   },
   "outputs": [],
   "source": [
    "def part1(data):\n",
    "    # get the largest crab coordinate \n",
    "    xmax = max(data)\n",
    "    fuel = [];\n",
    "    # iterate over possible positions\n",
    "    for i in range(xmax+1):\n",
    "        pt = sum([abs(a-i) for a in data])\n",
    "        fuel.append(pt)\n",
    "    return min(fuel)"
   ]
  },
  {
   "cell_type": "code",
   "execution_count": 3,
   "id": "43ce375e",
   "metadata": {},
   "outputs": [
    {
     "name": "stdout",
     "output_type": "stream",
     "text": [
      "Part 1: 355150 fuel\n"
     ]
    }
   ],
   "source": [
    "answer1 = part1(data)\n",
    "print(f'Part 1: {answer1} fuel')"
   ]
  },
  {
   "cell_type": "markdown",
   "id": "7f1d3c90",
   "metadata": {},
   "source": [
    "Part 2. Now n steps cost n(n+1)/2 fuel."
   ]
  },
  {
   "cell_type": "code",
   "execution_count": 4,
   "id": "812fa534",
   "metadata": {},
   "outputs": [],
   "source": [
    "def cost(steps):\n",
    "    steps = abs(steps)\n",
    "    return int(steps*(steps+1)/2)\n",
    "\n",
    "def part2(data):\n",
    "    # get the largest crab coordinate \n",
    "    xmax = max(data)\n",
    "    fuel = [];\n",
    "    for i in range(xmax+1):\n",
    "        pt = sum([cost(a-i) for a in data])\n",
    "        fuel.append(pt)\n",
    "    return min(fuel)"
   ]
  },
  {
   "cell_type": "code",
   "execution_count": 5,
   "id": "1e2d6a3b",
   "metadata": {},
   "outputs": [
    {
     "name": "stdout",
     "output_type": "stream",
     "text": [
      "Part 2: 98368490 fuel\n"
     ]
    }
   ],
   "source": [
    "answer2 = part2(data)\n",
    "print(f'Part 2: {answer2} fuel')"
   ]
  }
 ],
 "metadata": {
  "kernelspec": {
   "display_name": "aoc",
   "language": "python",
   "name": "aoc"
  },
  "language_info": {
   "codemirror_mode": {
    "name": "ipython",
    "version": 3
   },
   "file_extension": ".py",
   "mimetype": "text/x-python",
   "name": "python",
   "nbconvert_exporter": "python",
   "pygments_lexer": "ipython3",
   "version": "3.7.4"
  }
 },
 "nbformat": 4,
 "nbformat_minor": 5
}
