{
 "cells": [
  {
   "cell_type": "markdown",
   "id": "183dfe88",
   "metadata": {},
   "source": [
    "# --- Day 10: Syntax Scoring ---\n",
    "https://adventofcode.com/2021/day/10\n",
    "\n",
    "Bracket matching. Will use stack for the first part"
   ]
  },
  {
   "cell_type": "code",
   "execution_count": 1,
   "id": "fcc50821",
   "metadata": {},
   "outputs": [],
   "source": [
    "import aocd\n",
    "data = aocd.get_data(day=10, year=2021).splitlines()\n",
    "# # # # Test data\n",
    "# with open('input\\Day 10.txt', 'r') as f:\n",
    "#     data = f.read().splitlines()"
   ]
  },
  {
   "cell_type": "code",
   "execution_count": 2,
   "id": "23dcf44a",
   "metadata": {
    "scrolled": true
   },
   "outputs": [],
   "source": [
    "def match(first,second):\n",
    "    '''\n",
    "    Checks if first (opening) bracket matches the \n",
    "    second (closing) one\n",
    "    '''\n",
    "    if first=='(' and second==')':\n",
    "        return True\n",
    "    if first=='[' and second==']':\n",
    "        return True\n",
    "    if first=='<' and second=='>':\n",
    "        return True\n",
    "    if first=='{' and second=='}':\n",
    "        return True\n",
    "    return False\n",
    "\n",
    "\n",
    "def check_line(line):\n",
    "    '''\n",
    "    Checks whether the line of brackets is complete.\n",
    "    Returns pair [status,str]:\n",
    "        status: 'complete', 'incomplete', or 'corrupted'\n",
    "        str: '' if status is 'complete',\n",
    "             remaining stack if status is 'incomplete'\n",
    "             first wrong bracket if status is 'corrupted'\n",
    "    '''\n",
    "    stack = []\n",
    "    for char in line:\n",
    "        if char in ['(','[','{','<']:\n",
    "            stack.append(char)\n",
    "        else:\n",
    "            popped = stack.pop()\n",
    "            if not match(popped,char):\n",
    "                return ['corrupted',char]\n",
    "    if stack:\n",
    "        return ['incomplete',stack]\n",
    "    else:\n",
    "        return ['complete','']\n",
    "\n",
    "\n",
    "def part1(data):\n",
    "    score_table = {')':3, ']':57, '}':1197, '>':25137}\n",
    "    score = 0\n",
    "    for line in data:\n",
    "        [status,string] = check_line(line)\n",
    "        if status == 'corrupted':\n",
    "            score += score_table[string]    \n",
    "    return score"
   ]
  },
  {
   "cell_type": "code",
   "execution_count": 3,
   "id": "43ce375e",
   "metadata": {},
   "outputs": [
    {
     "name": "stdout",
     "output_type": "stream",
     "text": [
      "Part 1: 366027\n"
     ]
    }
   ],
   "source": [
    "answer1 = part1(data)\n",
    "print(f'Part 1: {answer1}')"
   ]
  },
  {
   "cell_type": "markdown",
   "id": "7f1d3c90",
   "metadata": {},
   "source": [
    "Part 2 seems straightforward. "
   ]
  },
  {
   "cell_type": "code",
   "execution_count": 4,
   "id": "812fa534",
   "metadata": {},
   "outputs": [],
   "source": [
    "def score_completion(stack):\n",
    "    '''\n",
    "    Calculates the score of a line to be completed basing on the stack data\n",
    "    '''\n",
    "    score_table = {'(':1, '[':2, '{':3, '<':4}\n",
    "    score = 0\n",
    "    for char in stack[::-1]:\n",
    "        score = score*5 + score_table[char]\n",
    "    return score  \n",
    "\n",
    "\n",
    "def part2(data):\n",
    "    scores = []\n",
    "    for line in data:\n",
    "        [status,string] = check_line(line)\n",
    "        if status == 'incomplete':\n",
    "            scores.append(score_completion(string))\n",
    "    idx = int(len(scores)/2) # rounded down cause we count from 0\n",
    "    return sorted(scores)[idx]"
   ]
  },
  {
   "cell_type": "code",
   "execution_count": 5,
   "id": "1e2d6a3b",
   "metadata": {},
   "outputs": [
    {
     "name": "stdout",
     "output_type": "stream",
     "text": [
      "Part 2: 1118645287\n"
     ]
    }
   ],
   "source": [
    "answer2 = part2(data)\n",
    "print(f'Part 2: {answer2}')"
   ]
  }
 ],
 "metadata": {
  "kernelspec": {
   "display_name": "aoc",
   "language": "python",
   "name": "aoc"
  },
  "language_info": {
   "codemirror_mode": {
    "name": "ipython",
    "version": 3
   },
   "file_extension": ".py",
   "mimetype": "text/x-python",
   "name": "python",
   "nbconvert_exporter": "python",
   "pygments_lexer": "ipython3",
   "version": "3.7.4"
  }
 },
 "nbformat": 4,
 "nbformat_minor": 5
}
