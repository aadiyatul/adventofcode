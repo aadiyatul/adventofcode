{
 "cells": [
  {
   "cell_type": "markdown",
   "id": "183dfe88",
   "metadata": {},
   "source": [
    "# --- Day 5: Hydrothermal Venture ---\n",
    "\n",
    "https://adventofcode.com/2021/day/5\n",
    "\n",
    "Use regular expressions to parse the input."
   ]
  },
  {
   "cell_type": "code",
   "execution_count": 1,
   "id": "fcc50821",
   "metadata": {},
   "outputs": [],
   "source": [
    "import aocd\n",
    "data = aocd.get_data(day=5, year=2021).splitlines()\n",
    "# # # # Test data\n",
    "# with open('input\\Day 05.txt', 'r') as f:\n",
    "#     data = f.read().splitlines()"
   ]
  },
  {
   "cell_type": "code",
   "execution_count": 2,
   "id": "23dcf44a",
   "metadata": {
    "scrolled": true
   },
   "outputs": [],
   "source": [
    "import re \n",
    "\n",
    "def parse_input(data):\n",
    "    '''\n",
    "    Reshape the input of the problem into a list of lists of starting points\n",
    "    '''\n",
    "    parsed = []\n",
    "    pattern = '\\d+'\n",
    "    for line in data:\n",
    "        result = re.findall(pattern,line) \n",
    "        beg = [int(result[0]), int(result[1])]\n",
    "        end = [int(result[2]), int(result[3])]\n",
    "        parsed.append([beg,end])\n",
    "    return parsed\n",
    "\n",
    "def sign(value):\n",
    "    if value>0:\n",
    "        return 1\n",
    "    elif value<0:\n",
    "        return -1\n",
    "    else:\n",
    "        return 0\n",
    "\n",
    "def points(line,include_diag=False):\n",
    "    '''\n",
    "    Returns a list of points [x,y] that will be covered by the input line\n",
    "    [[x_beg,y_beg],[x_end,y_end]]\n",
    "    '''\n",
    "    x_beg = line[0][0]\n",
    "    y_beg = line[0][1]\n",
    "    x_end = line[1][0]\n",
    "    y_end = line[1][1]\n",
    "    \n",
    "    if x_beg==x_end:\n",
    "        step = sign(y_end-y_beg)\n",
    "        return [[x_beg,y] for y in range(y_beg,y_end+step,step)]\n",
    "    elif y_beg==y_end:\n",
    "        step = sign(x_end-x_beg)\n",
    "        return [[x,y_beg] for x in range(x_beg,x_end+step,step)]\n",
    "    else:\n",
    "        if include_diag:\n",
    "            # We believe that number of steps along x nad y is the same\n",
    "            step_x = sign(x_end-x_beg)\n",
    "            step_y = sign(y_end-y_beg)\n",
    "            return [[x,y] for x,y in zip(\n",
    "                range(x_beg,x_end+step_x,step_x),range(y_beg,y_end+step_y,step_y)\n",
    "                )]\n",
    "        else:\n",
    "            return []\n",
    "\n",
    "class Map():\n",
    "    '''\n",
    "    Manages 1000x1000 map of the sea bed.\n",
    "    '''\n",
    "    def __init__(self):\n",
    "        self.map = [[0 for x in range(1000)] for y in range(1000)]\n",
    "        \n",
    "    def add_vent(self,coord):\n",
    "        [x,y] = coord\n",
    "        self.map[y][x] += 1\n",
    "        \n",
    "    def danger_pts(self):\n",
    "        return sum([ sum([self.map[y][x]>1 for x in range(1000)]) for y in range(1000)])\n",
    "        \n",
    "def solve(data,include_diag=False):\n",
    "    '''\n",
    "    Creates the map of vents and count the number of ones with\n",
    "    intensity above 1\n",
    "    '''\n",
    "    m = Map()\n",
    "    lines = parse_input(data)\n",
    "    for line in lines:\n",
    "        pts = points(line,include_diag)\n",
    "        for pt in pts:\n",
    "            m.add_vent(pt)\n",
    "    return m.danger_pts()"
   ]
  },
  {
   "cell_type": "code",
   "execution_count": 3,
   "id": "43ce375e",
   "metadata": {},
   "outputs": [
    {
     "name": "stdout",
     "output_type": "stream",
     "text": [
      "Part 1: the answer is 6007\n"
     ]
    }
   ],
   "source": [
    "answer1 = solve(data)\n",
    "print(f'Part 1: the answer is {answer1}')"
   ]
  },
  {
   "cell_type": "markdown",
   "id": "10b8d8e8",
   "metadata": {},
   "source": [
    "Same for the Part 2, but now include the diagonal lines as well"
   ]
  },
  {
   "cell_type": "code",
   "execution_count": 4,
   "id": "1e2d6a3b",
   "metadata": {},
   "outputs": [
    {
     "name": "stdout",
     "output_type": "stream",
     "text": [
      "Part 2: the answer is 19349\n"
     ]
    }
   ],
   "source": [
    "answer2 = solve(data,include_diag=True)\n",
    "print(f'Part 2: the answer is {answer2}')"
   ]
  }
 ],
 "metadata": {
  "kernelspec": {
   "display_name": "aoc",
   "language": "python",
   "name": "aoc"
  },
  "language_info": {
   "codemirror_mode": {
    "name": "ipython",
    "version": 3
   },
   "file_extension": ".py",
   "mimetype": "text/x-python",
   "name": "python",
   "nbconvert_exporter": "python",
   "pygments_lexer": "ipython3",
   "version": "3.7.4"
  }
 },
 "nbformat": 4,
 "nbformat_minor": 5
}
